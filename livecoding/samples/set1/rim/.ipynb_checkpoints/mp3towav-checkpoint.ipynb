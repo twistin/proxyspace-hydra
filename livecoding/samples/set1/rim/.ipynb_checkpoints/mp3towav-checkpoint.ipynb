{
 "cells": [
  {
   "cell_type": "markdown",
   "id": "1fcc88b5",
   "metadata": {},
   "source": []
  },
  {
   "cell_type": "code",
   "execution_count": 8,
   "id": "8c6ee454",
   "metadata": {},
   "outputs": [
    {
     "data": {
      "text/plain": [
       "<_io.BufferedRandom name='fluteslap.wav'>"
      ]
     },
     "execution_count": 8,
     "metadata": {},
     "output_type": "execute_result"
    }
   ],
   "source": [
    "from os import path\n",
    "from pydub import AudioSegment\n",
    "import os\n",
    "\n",
    "# Lista de archivos AIF que deseas convertir\n",
    "archivos_a_convertir = [\"fluteslap.aiff\", \"otroarchivo.aiff\", \"masarchivos.aiff\"]\n",
    "\n",
    "# Carpeta de destino para los archivos WAV\n",
    "carpeta_destino = \"archivos_wav\"\n",
    "\n",
    "# Crear la carpeta de destino si no existe\n",
    "if not os.path.exists(carpeta_destino):\n",
    "    os.makedirs(carpeta_destino)\n",
    "\n",
    "# Convertir cada archivo AIF a WAV\n",
    "for archivo in archivos_a_convertir:\n",
    "    # Obtener el nombre del archivo sin la extensión\n",
    "    nombre_archivo = os.path.splitext(archivo)[0]\n",
    "    # Establecer la ruta de destino para el archivo WAV\n",
    "    ruta_destino = path.join(carpeta_destino, f\"{nombre_archivo}.wav\")\n",
    "    # Convertir AIF a WAV\n",
    "    sound = AudioSegment.from_file(archivo)\n",
    "    sound.export(ruta_destino, format=\"wav\")\n",
    "\n",
    "print(\"La conversión ha sido completada.\")\n"
   ]
  },
  {
   "cell_type": "code",
   "execution_count": 1,
   "id": "07ed1718",
   "metadata": {},
   "outputs": [
    {
     "name": "stdout",
     "output_type": "stream",
     "text": [
      "Convertido: /Users/sdcarr/Desktop/My-setup-sc-live-coding/samples/set1/glitch/glitch-vinyl-scrub-27011.mp3 a /Users/sdcarr/Desktop/My-setup-sc-live-coding/samples/set1/glitch/glitch-vinyl-scrub-27011.wav\n",
      "Convertido: /Users/sdcarr/Desktop/My-setup-sc-live-coding/samples/set1/glitch/glitch-sound-fx-pack-04-118236.mp3 a /Users/sdcarr/Desktop/My-setup-sc-live-coding/samples/set1/glitch/glitch-sound-fx-pack-04-118236.wav\n",
      "Convertido: /Users/sdcarr/Desktop/My-setup-sc-live-coding/samples/set1/glitch/creepy-classical-vinyl-glitched-14907.mp3 a /Users/sdcarr/Desktop/My-setup-sc-live-coding/samples/set1/glitch/creepy-classical-vinyl-glitched-14907.wav\n",
      "Convertido: /Users/sdcarr/Desktop/My-setup-sc-live-coding/samples/set1/glitch/printer-typewriter-error-139711.mp3 a /Users/sdcarr/Desktop/My-setup-sc-live-coding/samples/set1/glitch/printer-typewriter-error-139711.wav\n",
      "Convertido: /Users/sdcarr/Desktop/My-setup-sc-live-coding/samples/set1/glitch/glitch-sound-effect-12796.mp3 a /Users/sdcarr/Desktop/My-setup-sc-live-coding/samples/set1/glitch/glitch-sound-effect-12796.wav\n",
      "Convertido: /Users/sdcarr/Desktop/My-setup-sc-live-coding/samples/set1/glitch/glitch-sound-static-noise-30279.mp3 a /Users/sdcarr/Desktop/My-setup-sc-live-coding/samples/set1/glitch/glitch-sound-static-noise-30279.wav\n",
      "Convertido: /Users/sdcarr/Desktop/My-setup-sc-live-coding/samples/set1/glitch/glitch-sounds-26212.mp3 a /Users/sdcarr/Desktop/My-setup-sc-live-coding/samples/set1/glitch/glitch-sounds-26212.wav\n",
      "Convertido: /Users/sdcarr/Desktop/My-setup-sc-live-coding/samples/set1/glitch/bad-connection-plug-62552.mp3 a /Users/sdcarr/Desktop/My-setup-sc-live-coding/samples/set1/glitch/bad-connection-plug-62552.wav\n",
      "Convertido: /Users/sdcarr/Desktop/My-setup-sc-live-coding/samples/set1/glitch/cinematic-glitch-transition-sfx-27806.mp3 a /Users/sdcarr/Desktop/My-setup-sc-live-coding/samples/set1/glitch/cinematic-glitch-transition-sfx-27806.wav\n",
      "Convertido: /Users/sdcarr/Desktop/My-setup-sc-live-coding/samples/set1/glitch/UIGlitch_glitch _sdCarr_myLibrary.mp3 a /Users/sdcarr/Desktop/My-setup-sc-live-coding/samples/set1/glitch/UIGlitch_glitch _sdCarr_myLibrary.wav\n",
      "Convertido: /Users/sdcarr/Desktop/My-setup-sc-live-coding/samples/set1/glitch/COMRadio_interference radio tv data computer hard drive_sdCarr_myLibrary.mp3 a /Users/sdcarr/Desktop/My-setup-sc-live-coding/samples/set1/glitch/COMRadio_interference radio tv data computer hard drive_sdCarr_myLibrary.wav\n",
      "Convertido: /Users/sdcarr/Desktop/My-setup-sc-live-coding/samples/set1/glitch/glitch-sound-fx-pack-05-118237.mp3 a /Users/sdcarr/Desktop/My-setup-sc-live-coding/samples/set1/glitch/glitch-sound-fx-pack-05-118237.wav\n",
      "Convertido: /Users/sdcarr/Desktop/My-setup-sc-live-coding/samples/set1/glitch/designed-fire-winds-swoosh-04-116788.mp3 a /Users/sdcarr/Desktop/My-setup-sc-live-coding/samples/set1/glitch/designed-fire-winds-swoosh-04-116788.wav\n",
      "Convertido: /Users/sdcarr/Desktop/My-setup-sc-live-coding/samples/set1/glitch/glitch1-6219.mp3 a /Users/sdcarr/Desktop/My-setup-sc-live-coding/samples/set1/glitch/glitch1-6219.wav\n",
      "Convertido: /Users/sdcarr/Desktop/My-setup-sc-live-coding/samples/set1/glitch/glitchys-6287.mp3 a /Users/sdcarr/Desktop/My-setup-sc-live-coding/samples/set1/glitch/glitchys-6287.wav\n"
     ]
    }
   ],
   "source": []
  },
  {
   "cell_type": "code",
   "execution_count": null,
   "id": "6f9d2785",
   "metadata": {},
   "outputs": [],
   "source": [
    "\n"
   ]
  },
  {
   "cell_type": "code",
   "execution_count": null,
   "id": "f3fd7462-3a82-40c3-82e0-c51a93f4a766",
   "metadata": {},
   "outputs": [],
   "source": []
  },
  {
   "cell_type": "code",
   "execution_count": 2,
   "id": "e8c84dd4-6731-433e-8438-4c1d8853594a",
   "metadata": {},
   "outputs": [
    {
     "ename": "FileNotFoundError",
     "evalue": "[Errno 2] No such file or directory: 'fluteslap.aiff'",
     "output_type": "error",
     "traceback": [
      "\u001b[0;31m---------------------------------------------------------------------------\u001b[0m",
      "\u001b[0;31mFileNotFoundError\u001b[0m                         Traceback (most recent call last)",
      "Cell \u001b[0;32mIn[2], line 22\u001b[0m\n\u001b[1;32m     20\u001b[0m     ruta_destino \u001b[38;5;241m=\u001b[39m path\u001b[38;5;241m.\u001b[39mjoin(carpeta_destino, \u001b[38;5;124mf\u001b[39m\u001b[38;5;124m\"\u001b[39m\u001b[38;5;132;01m{\u001b[39;00mnombre_archivo\u001b[38;5;132;01m}\u001b[39;00m\u001b[38;5;124m.wav\u001b[39m\u001b[38;5;124m\"\u001b[39m)\n\u001b[1;32m     21\u001b[0m     \u001b[38;5;66;03m# Convertir AIF a WAV\u001b[39;00m\n\u001b[0;32m---> 22\u001b[0m     sound \u001b[38;5;241m=\u001b[39m \u001b[43mAudioSegment\u001b[49m\u001b[38;5;241;43m.\u001b[39;49m\u001b[43mfrom_file\u001b[49m\u001b[43m(\u001b[49m\u001b[43marchivo\u001b[49m\u001b[43m)\u001b[49m\n\u001b[1;32m     23\u001b[0m     sound\u001b[38;5;241m.\u001b[39mexport(ruta_destino, \u001b[38;5;28mformat\u001b[39m\u001b[38;5;241m=\u001b[39m\u001b[38;5;124m\"\u001b[39m\u001b[38;5;124mwav\u001b[39m\u001b[38;5;124m\"\u001b[39m)\n\u001b[1;32m     25\u001b[0m \u001b[38;5;28mprint\u001b[39m(\u001b[38;5;124m\"\u001b[39m\u001b[38;5;124mLa conversión ha sido completada.\u001b[39m\u001b[38;5;124m\"\u001b[39m)\n",
      "File \u001b[0;32m~/mambaforge/lib/python3.10/site-packages/pydub/audio_segment.py:651\u001b[0m, in \u001b[0;36mAudioSegment.from_file\u001b[0;34m(cls, file, format, codec, parameters, start_second, duration, **kwargs)\u001b[0m\n\u001b[1;32m    649\u001b[0m \u001b[38;5;28;01mexcept\u001b[39;00m \u001b[38;5;167;01mTypeError\u001b[39;00m:\n\u001b[1;32m    650\u001b[0m     filename \u001b[38;5;241m=\u001b[39m \u001b[38;5;28;01mNone\u001b[39;00m\n\u001b[0;32m--> 651\u001b[0m file, close_file \u001b[38;5;241m=\u001b[39m \u001b[43m_fd_or_path_or_tempfile\u001b[49m\u001b[43m(\u001b[49m\u001b[43mfile\u001b[49m\u001b[43m,\u001b[49m\u001b[43m \u001b[49m\u001b[38;5;124;43m'\u001b[39;49m\u001b[38;5;124;43mrb\u001b[39;49m\u001b[38;5;124;43m'\u001b[39;49m\u001b[43m,\u001b[49m\u001b[43m \u001b[49m\u001b[43mtempfile\u001b[49m\u001b[38;5;241;43m=\u001b[39;49m\u001b[38;5;28;43;01mFalse\u001b[39;49;00m\u001b[43m)\u001b[49m\n\u001b[1;32m    653\u001b[0m \u001b[38;5;28;01mif\u001b[39;00m \u001b[38;5;28mformat\u001b[39m:\n\u001b[1;32m    654\u001b[0m     \u001b[38;5;28mformat\u001b[39m \u001b[38;5;241m=\u001b[39m \u001b[38;5;28mformat\u001b[39m\u001b[38;5;241m.\u001b[39mlower()\n",
      "File \u001b[0;32m~/mambaforge/lib/python3.10/site-packages/pydub/utils.py:60\u001b[0m, in \u001b[0;36m_fd_or_path_or_tempfile\u001b[0;34m(fd, mode, tempfile)\u001b[0m\n\u001b[1;32m     57\u001b[0m     close_fd \u001b[38;5;241m=\u001b[39m \u001b[38;5;28;01mTrue\u001b[39;00m\n\u001b[1;32m     59\u001b[0m \u001b[38;5;28;01mif\u001b[39;00m \u001b[38;5;28misinstance\u001b[39m(fd, basestring):\n\u001b[0;32m---> 60\u001b[0m     fd \u001b[38;5;241m=\u001b[39m \u001b[38;5;28;43mopen\u001b[39;49m\u001b[43m(\u001b[49m\u001b[43mfd\u001b[49m\u001b[43m,\u001b[49m\u001b[43m \u001b[49m\u001b[43mmode\u001b[49m\u001b[38;5;241;43m=\u001b[39;49m\u001b[43mmode\u001b[49m\u001b[43m)\u001b[49m\n\u001b[1;32m     61\u001b[0m     close_fd \u001b[38;5;241m=\u001b[39m \u001b[38;5;28;01mTrue\u001b[39;00m\n\u001b[1;32m     63\u001b[0m \u001b[38;5;28;01mtry\u001b[39;00m:\n",
      "\u001b[0;31mFileNotFoundError\u001b[0m: [Errno 2] No such file or directory: 'fluteslap.aiff'"
     ]
    }
   ],
   "source": [
    "from os import path\n",
    "from pydub import AudioSegment\n",
    "import os\n",
    "\n",
    "# Lista de archivos AIF que deseas convertir\n",
    "archivos_a_convertir = [\"fluteslap.aiff\", \"otroarchivo.aiff\", \"masarchivos.aiff\"]\n",
    "\n",
    "# Carpeta de destino para los archivos WAV\n",
    "carpeta_destino = \"archivos_wav\"\n",
    "\n",
    "# Crear la carpeta de destino si no existe\n",
    "if not os.path.exists(carpeta_destino):\n",
    "    os.makedirs(carpeta_destino)\n",
    "\n",
    "# Convertir cada archivo AIF a WAV\n",
    "for archivo in archivos_a_convertir:\n",
    "    # Obtener el nombre del archivo sin la extensión\n",
    "    nombre_archivo = os.path.splitext(archivo)[0]\n",
    "    # Establecer la ruta de destino para el archivo WAV\n",
    "    ruta_destino = path.join(carpeta_destino, f\"{nombre_archivo}.wav\")\n",
    "    # Convertir AIF a WAV\n",
    "    sound = AudioSegment.from_file(archivo)\n",
    "    sound.export(ruta_destino, format=\"wav\")\n",
    "\n",
    "print(\"La conversión ha sido completada.\")\n"
   ]
  },
  {
   "cell_type": "code",
   "execution_count": null,
   "id": "11613eea-7e6e-465d-896b-2c215f550c4a",
   "metadata": {},
   "outputs": [],
   "source": []
  }
 ],
 "metadata": {
  "kernelspec": {
   "display_name": "Python 3 (ipykernel)",
   "language": "python",
   "name": "python3"
  },
  "language_info": {
   "codemirror_mode": {
    "name": "ipython",
    "version": 3
   },
   "file_extension": ".py",
   "mimetype": "text/x-python",
   "name": "python",
   "nbconvert_exporter": "python",
   "pygments_lexer": "ipython3",
   "version": "3.10.12"
  }
 },
 "nbformat": 4,
 "nbformat_minor": 5
}

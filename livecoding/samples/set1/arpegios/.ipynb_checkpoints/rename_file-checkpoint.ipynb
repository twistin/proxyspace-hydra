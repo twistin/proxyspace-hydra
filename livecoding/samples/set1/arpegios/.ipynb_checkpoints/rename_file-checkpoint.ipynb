{
 "cells": [
  {
   "cell_type": "code",
   "execution_count": 3,
   "id": "87248be0-0c4a-44fb-95b8-80aa38c26963",
   "metadata": {},
   "outputs": [
    {
     "name": "stdout",
     "output_type": "stream",
     "text": [
      "10 anceu3.wav\n",
      "17 FEETHmn_paseo zamans pasos_sdCarr_zamans.wav\n",
      "18 anceu8.wav\n",
      "19 anceu5.wav\n",
      "2 anceu2.wav\n",
      "21 WATRFlow_pase zamans_sdCarr_zamans.wav\n",
      "24 anceu7.wav\n",
      "30 AMBForst_paseo zamans bosque_sdCarr_zamans.wav\n",
      "35 WATRFlow_paseo zamans_sdCarr_zamans.wav\n",
      "38 anceu9.wav\n",
      "48 WATRFlow_paseo zamans 4_sdCarr_zamans.wav\n",
      "7 agua-corriente.wav\n",
      "76 AMBForst_paseo zamans paisaje sonoro_sdCarr_zamans.wav\n",
      "82 anceu_1.wav\n",
      "88 anceu10.wav\n"
     ]
    }
   ],
   "source": [
    "import wave\n",
    "import contextlib\n",
    "import os\n",
    "count = 0\n",
    "\n",
    "for file_name in os.listdir(os.getcwd()):\n",
    "    if file_name.endswith(\".wav\") or file_name.endswith(\".aiff\"):\n",
    "        count += 1\n",
    "        with contextlib.closing(wave.open(file_name, 'r')) as f:\n",
    "            frames = f.getnframes()\n",
    "            rate = f.getframerate()\n",
    "            duration = frames / float(rate)\n",
    "            duration = int(duration)\n",
    "            duration = str(duration)\n",
    "            new_file_name = \"audio\" + str(count) + '.wav'\n",
    "            print(file_name)\n",
    "        os.rename(file_name, new_file_name)\n",
    "    else:\n",
    "        continue"
   ]
  },
  {
   "cell_type": "code",
   "execution_count": null,
   "id": "49dc280c-269d-4ee8-8b3f-8d6698d5b728",
   "metadata": {},
   "outputs": [],
   "source": []
  }
 ],
 "metadata": {
  "kernelspec": {
   "display_name": "Python 3 (ipykernel)",
   "language": "python",
   "name": "python3"
  },
  "language_info": {
   "codemirror_mode": {
    "name": "ipython",
    "version": 3
   },
   "file_extension": ".py",
   "mimetype": "text/x-python",
   "name": "python",
   "nbconvert_exporter": "python",
   "pygments_lexer": "ipython3",
   "version": "3.10.12"
  }
 },
 "nbformat": 4,
 "nbformat_minor": 5
}
